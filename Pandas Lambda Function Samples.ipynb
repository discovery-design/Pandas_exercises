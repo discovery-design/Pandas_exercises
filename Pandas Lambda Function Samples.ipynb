{
 "cells": [
  {
   "cell_type": "code",
   "execution_count": null,
   "metadata": {},
   "outputs": [],
   "source": [
    "import pandas as pd\n",
    "from datetime import datetime \n",
    "import numpy as np\n",
    "\n",
    "df=pd.DataFrame({\n",
    "'Writer':['Weber', 'Durkheim', 'Comte'],\n",
    "'yearOfBirth':[1864, 1858, 1798],\n",
    "'numberOfBook':[18, 10, 15]\n",
    "})\n",
    "\n",
    "\n",
    "minValue=df['numberOfBook'].min()\n",
    "\n",
    "df['Age']=df['yearOfBirth'].apply(lambda x:datetime.today().year-x)\n",
    "\n",
    "df[\"Century\"]=df['yearOfBirth'].apply(lambda x: '18.Century' if x>=1700 and x<=1800 else '19.Century')\n"
   ]
  }
 ],
 "metadata": {
  "language_info": {
   "name": "python"
  },
  "orig_nbformat": 4
 },
 "nbformat": 4,
 "nbformat_minor": 2
}
