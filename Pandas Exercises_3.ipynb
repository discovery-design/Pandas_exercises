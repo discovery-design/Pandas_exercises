{
 "cells": [
  {
   "cell_type": "code",
   "execution_count": 5,
   "metadata": {},
   "outputs": [
    {
     "name": "stdout",
     "output_type": "stream",
     "text": [
      "Unique article id :1051 total data:1056\n"
     ]
    },
    {
     "ename": "KeyError",
     "evalue": "Index(['user_id'], dtype='object')",
     "output_type": "error",
     "traceback": [
      "\u001b[1;31m---------------------------------------------------------------------------\u001b[0m",
      "\u001b[1;31mKeyError\u001b[0m                                  Traceback (most recent call last)",
      "\u001b[1;32mUntitled-1.ipynb Cell 1\u001b[0m in \u001b[0;36m<cell line: 60>\u001b[1;34m()\u001b[0m\n\u001b[0;32m     <a href='vscode-notebook-cell:Untitled-1.ipynb?jupyter-notebook#ch0000000untitled?line=55'>56</a>\u001b[0m     user_item \u001b[39m=\u001b[39m df\u001b[39m.\u001b[39mdrop_duplicates(subset\u001b[39m=\u001b[39m[\u001b[39m'\u001b[39m\u001b[39marticle_id\u001b[39m\u001b[39m'\u001b[39m, \u001b[39m'\u001b[39m\u001b[39muser_id\u001b[39m\u001b[39m'\u001b[39m])\u001b[39m.\u001b[39mgroupby([\u001b[39m'\u001b[39m\u001b[39muser_id\u001b[39m\u001b[39m'\u001b[39m,\u001b[39m'\u001b[39m\u001b[39marticle_id\u001b[39m\u001b[39m'\u001b[39m])[\u001b[39m'\u001b[39m\u001b[39mtitle\u001b[39m\u001b[39m'\u001b[39m]\u001b[39m.\u001b[39mcount()\u001b[39m.\u001b[39munstack(fill_value\u001b[39m=\u001b[39m\u001b[39m0\u001b[39m)\n\u001b[0;32m     <a href='vscode-notebook-cell:Untitled-1.ipynb?jupyter-notebook#ch0000000untitled?line=57'>58</a>\u001b[0m     \u001b[39mreturn\u001b[39;00m user_item \u001b[39m# return the user_item matrix \u001b[39;00m\n\u001b[1;32m---> <a href='vscode-notebook-cell:Untitled-1.ipynb?jupyter-notebook#ch0000000untitled?line=59'>60</a>\u001b[0m user_item \u001b[39m=\u001b[39m create_user_item_matrix(df\u001b[39m.\u001b[39;49mhead(\u001b[39m10\u001b[39;49m))\n\u001b[0;32m     <a href='vscode-notebook-cell:Untitled-1.ipynb?jupyter-notebook#ch0000000untitled?line=61'>62</a>\u001b[0m user_item\u001b[39m.\u001b[39mhead(\u001b[39m50\u001b[39m)\n",
      "\u001b[1;32mUntitled-1.ipynb Cell 1\u001b[0m in \u001b[0;36mcreate_user_item_matrix\u001b[1;34m(df)\u001b[0m\n\u001b[0;32m     <a href='vscode-notebook-cell:Untitled-1.ipynb?jupyter-notebook#ch0000000untitled?line=53'>54</a>\u001b[0m \u001b[39mdef\u001b[39;00m \u001b[39mcreate_user_item_matrix\u001b[39m(df):\n\u001b[1;32m---> <a href='vscode-notebook-cell:Untitled-1.ipynb?jupyter-notebook#ch0000000untitled?line=55'>56</a>\u001b[0m     user_item \u001b[39m=\u001b[39m df\u001b[39m.\u001b[39;49mdrop_duplicates(subset\u001b[39m=\u001b[39;49m[\u001b[39m'\u001b[39;49m\u001b[39marticle_id\u001b[39;49m\u001b[39m'\u001b[39;49m, \u001b[39m'\u001b[39;49m\u001b[39muser_id\u001b[39;49m\u001b[39m'\u001b[39;49m])\u001b[39m.\u001b[39mgroupby([\u001b[39m'\u001b[39m\u001b[39muser_id\u001b[39m\u001b[39m'\u001b[39m,\u001b[39m'\u001b[39m\u001b[39marticle_id\u001b[39m\u001b[39m'\u001b[39m])[\u001b[39m'\u001b[39m\u001b[39mtitle\u001b[39m\u001b[39m'\u001b[39m]\u001b[39m.\u001b[39mcount()\u001b[39m.\u001b[39munstack(fill_value\u001b[39m=\u001b[39m\u001b[39m0\u001b[39m)\n\u001b[0;32m     <a href='vscode-notebook-cell:Untitled-1.ipynb?jupyter-notebook#ch0000000untitled?line=57'>58</a>\u001b[0m     \u001b[39mreturn\u001b[39;00m user_item\n",
      "File \u001b[1;32mc:\\Users\\hakan.savas\\AppData\\Local\\Programs\\Python\\Python310\\lib\\site-packages\\pandas\\util\\_decorators.py:311\u001b[0m, in \u001b[0;36mdeprecate_nonkeyword_arguments.<locals>.decorate.<locals>.wrapper\u001b[1;34m(*args, **kwargs)\u001b[0m\n\u001b[0;32m    305\u001b[0m \u001b[39mif\u001b[39;00m \u001b[39mlen\u001b[39m(args) \u001b[39m>\u001b[39m num_allow_args:\n\u001b[0;32m    306\u001b[0m     warnings\u001b[39m.\u001b[39mwarn(\n\u001b[0;32m    307\u001b[0m         msg\u001b[39m.\u001b[39mformat(arguments\u001b[39m=\u001b[39marguments),\n\u001b[0;32m    308\u001b[0m         \u001b[39mFutureWarning\u001b[39;00m,\n\u001b[0;32m    309\u001b[0m         stacklevel\u001b[39m=\u001b[39mstacklevel,\n\u001b[0;32m    310\u001b[0m     )\n\u001b[1;32m--> 311\u001b[0m \u001b[39mreturn\u001b[39;00m func(\u001b[39m*\u001b[39margs, \u001b[39m*\u001b[39m\u001b[39m*\u001b[39mkwargs)\n",
      "File \u001b[1;32mc:\\Users\\hakan.savas\\AppData\\Local\\Programs\\Python\\Python310\\lib\\site-packages\\pandas\\core\\frame.py:6122\u001b[0m, in \u001b[0;36mDataFrame.drop_duplicates\u001b[1;34m(self, subset, keep, inplace, ignore_index)\u001b[0m\n\u001b[0;32m   6120\u001b[0m inplace \u001b[39m=\u001b[39m validate_bool_kwarg(inplace, \u001b[39m\"\u001b[39m\u001b[39minplace\u001b[39m\u001b[39m\"\u001b[39m)\n\u001b[0;32m   6121\u001b[0m ignore_index \u001b[39m=\u001b[39m validate_bool_kwarg(ignore_index, \u001b[39m\"\u001b[39m\u001b[39mignore_index\u001b[39m\u001b[39m\"\u001b[39m)\n\u001b[1;32m-> 6122\u001b[0m duplicated \u001b[39m=\u001b[39m \u001b[39mself\u001b[39;49m\u001b[39m.\u001b[39;49mduplicated(subset, keep\u001b[39m=\u001b[39;49mkeep)\n\u001b[0;32m   6124\u001b[0m result \u001b[39m=\u001b[39m \u001b[39mself\u001b[39m[\u001b[39m-\u001b[39mduplicated]\n\u001b[0;32m   6125\u001b[0m \u001b[39mif\u001b[39;00m ignore_index:\n",
      "File \u001b[1;32mc:\\Users\\hakan.savas\\AppData\\Local\\Programs\\Python\\Python310\\lib\\site-packages\\pandas\\core\\frame.py:6256\u001b[0m, in \u001b[0;36mDataFrame.duplicated\u001b[1;34m(self, subset, keep)\u001b[0m\n\u001b[0;32m   6254\u001b[0m diff \u001b[39m=\u001b[39m Index(subset)\u001b[39m.\u001b[39mdifference(\u001b[39mself\u001b[39m\u001b[39m.\u001b[39mcolumns)\n\u001b[0;32m   6255\u001b[0m \u001b[39mif\u001b[39;00m \u001b[39mnot\u001b[39;00m diff\u001b[39m.\u001b[39mempty:\n\u001b[1;32m-> 6256\u001b[0m     \u001b[39mraise\u001b[39;00m \u001b[39mKeyError\u001b[39;00m(diff)\n\u001b[0;32m   6258\u001b[0m vals \u001b[39m=\u001b[39m (col\u001b[39m.\u001b[39mvalues \u001b[39mfor\u001b[39;00m name, col \u001b[39min\u001b[39;00m \u001b[39mself\u001b[39m\u001b[39m.\u001b[39mitems() \u001b[39mif\u001b[39;00m name \u001b[39min\u001b[39;00m subset)\n\u001b[0;32m   6259\u001b[0m labels, shape \u001b[39m=\u001b[39m \u001b[39mmap\u001b[39m(\u001b[39mlist\u001b[39m, \u001b[39mzip\u001b[39m(\u001b[39m*\u001b[39m\u001b[39mmap\u001b[39m(f, vals)))\n",
      "\u001b[1;31mKeyError\u001b[0m: Index(['user_id'], dtype='object')"
     ]
    }
   ],
   "source": [
    "import pandas as pd\n",
    "\n",
    "import numpy as np\n",
    "\n",
    "import matplotlib.pyplot as plt\n",
    "\n",
    "# read a dataset of from URL\n",
    "\n",
    "df = pd.read_csv('https://raw.githubusercontent.com/mrinal1704/Recommendation-Engine-with-IBM/master/data/user-item-interactions.csv',on_bad_lines='skip')\n",
    "\n",
    "df_content = pd.read_csv('https://raw.githubusercontent.com/mrinal1704/Recommendation-Engine-with-IBM/master/data/articles_community.csv',on_bad_lines='skip')\n",
    "\n",
    "del df['Unnamed: 0']\n",
    "\n",
    "del df_content['Unnamed: 0']\n",
    "\n",
    "df['article_id']=df['article_id'].astype(str)\n",
    "\n",
    "user_interaction = df.groupby('email').count()['article_id'].sort_values(ascending=False)\n",
    "\n",
    "##user_interaction.iloc[:10].plot(kind='bar')\n",
    "\n",
    "print('Unique article id :{0} total data:{1}'.format(df_content['article_id'].nunique(),df_content.shape[0]))\n",
    "\n",
    "article_counts=pd.DataFrame(df['article_id'].value_counts().sort_values(ascending=False).head())\n",
    "\n",
    "##en fazla 1429 idli makalenin olduğunu teyit edelim..\n",
    "##df[df['article_id']=='1429.0']\n",
    "\n",
    "\n",
    "def get_top_articles(n,df):\n",
    "\n",
    "    df_sorted=pd.DataFrame(df['article_id'].value_counts().sort_values(ascending=False))\n",
    "\n",
    "    top_articles=list(df_sorted.index[:n])\n",
    "\n",
    "    top_article_names=df[df['article_id'].isin(top_articles)]['title'].unique().tolist()\n",
    "\n",
    "    return top_article_names\n",
    "\n",
    "\n",
    "def get_top_article_ids(n, df):\n",
    "\n",
    "    df_sorted=pd.DataFrame(df['article_id'].value_counts().sort_values(ascending=False))\n",
    "\n",
    "    topArticles=df_sorted.index.values[:n]\n",
    "\n",
    "    return list(topArticles)\n",
    "\n",
    "\n",
    "\n"
   ]
  }
 ],
 "metadata": {
  "kernelspec": {
   "display_name": "Python 3.10.5 64-bit",
   "language": "python",
   "name": "python3"
  },
  "language_info": {
   "codemirror_mode": {
    "name": "ipython",
    "version": 3
   },
   "file_extension": ".py",
   "mimetype": "text/x-python",
   "name": "python",
   "nbconvert_exporter": "python",
   "pygments_lexer": "ipython3",
   "version": "3.10.5"
  },
  "orig_nbformat": 4,
  "vscode": {
   "interpreter": {
    "hash": "64d9e0febb37c117edee39f5c7999dbd1379b9b3f86a615e65e2e5bb33bc848a"
   }
  }
 },
 "nbformat": 4,
 "nbformat_minor": 2
}
