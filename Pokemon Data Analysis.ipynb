{
 "cells": [
  {
   "cell_type": "code",
   "execution_count": 24,
   "metadata": {},
   "outputs": [
    {
     "ename": "IndexError",
     "evalue": "only integers, slices (`:`), ellipsis (`...`), numpy.newaxis (`None`) and integer or boolean arrays are valid indices",
     "output_type": "error",
     "traceback": [
      "\u001b[1;31m---------------------------------------------------------------------------\u001b[0m",
      "\u001b[1;31mIndexError\u001b[0m                                Traceback (most recent call last)",
      "\u001b[1;32mc:\\Users\\hakan.savas\\Desktop\\Leetcode\\Pokemon Data Analysis.ipynb Cell 1\u001b[0m in \u001b[0;36m<cell line: 65>\u001b[1;34m()\u001b[0m\n\u001b[0;32m     <a href='vscode-notebook-cell:/c%3A/Users/hakan.savas/Desktop/Leetcode/Pokemon%20Data%20Analysis.ipynb#ch0000000?line=60'>61</a>\u001b[0m Kazanan[(Kazanan[\u001b[39m'\u001b[39m\u001b[39mLegendary\u001b[39m\u001b[39m'\u001b[39m]\u001b[39m==\u001b[39m\u001b[39mFalse\u001b[39;00m) \u001b[39m&\u001b[39m (Kazanan[\u001b[39m'\u001b[39m\u001b[39mFirst_pokemon\u001b[39m\u001b[39m'\u001b[39m]\u001b[39m==\u001b[39mKazanan[\u001b[39m'\u001b[39m\u001b[39mWinner\u001b[39m\u001b[39m'\u001b[39m])]\n\u001b[0;32m     <a href='vscode-notebook-cell:/c%3A/Users/hakan.savas/Desktop/Leetcode/Pokemon%20Data%20Analysis.ipynb#ch0000000?line=62'>63</a>\u001b[0m \u001b[39m##FirstPokWin şeklinde bir kolon ekleyelim ve kazananın 1.pokemon olduğu durumda 1 değerini başka bir durumda 0 değerini alsın\u001b[39;00m\n\u001b[1;32m---> <a href='vscode-notebook-cell:/c%3A/Users/hakan.savas/Desktop/Leetcode/Pokemon%20Data%20Analysis.ipynb#ch0000000?line=64'>65</a>\u001b[0m Kazanan[\u001b[39m'\u001b[39m\u001b[39mFirstPokWin\u001b[39m\u001b[39m'\u001b[39m]\u001b[39m=\u001b[39mnp\u001b[39m.\u001b[39;49mwhere((Kazanan[\u001b[39m'\u001b[39;49m\u001b[39mFirst_pokemon\u001b[39;49m\u001b[39m'\u001b[39;49m]\u001b[39m==\u001b[39;49mKazanan[\u001b[39m'\u001b[39;49m\u001b[39mWinner\u001b[39;49m\u001b[39m'\u001b[39;49m]),\u001b[39m1\u001b[39;49m,\u001b[39m0\u001b[39;49m)[\u001b[39m'\u001b[39;49m\u001b[39mN\u001b[39;49m\u001b[39m'\u001b[39;49m]\n\u001b[0;32m     <a href='vscode-notebook-cell:/c%3A/Users/hakan.savas/Desktop/Leetcode/Pokemon%20Data%20Analysis.ipynb#ch0000000?line=67'>68</a>\u001b[0m \u001b[39m##Combat frameindeki 1.pokemonun kazanan olduğu mücadele sayısının tüm mücadele sayısına oranı\u001b[39;00m\n\u001b[0;32m     <a href='vscode-notebook-cell:/c%3A/Users/hakan.savas/Desktop/Leetcode/Pokemon%20Data%20Analysis.ipynb#ch0000000?line=69'>70</a>\u001b[0m Kazanan[(Kazanan[\u001b[39m'\u001b[39m\u001b[39mLegendary\u001b[39m\u001b[39m'\u001b[39m]\u001b[39m==\u001b[39m\u001b[39mFalse\u001b[39;00m) \u001b[39m&\u001b[39m (Kazanan[\u001b[39m'\u001b[39m\u001b[39mFirst_pokemon\u001b[39m\u001b[39m'\u001b[39m]\u001b[39m==\u001b[39mKazanan[\u001b[39m'\u001b[39m\u001b[39mWinner\u001b[39m\u001b[39m'\u001b[39m])]\u001b[39m.\u001b[39mcount()\n",
      "\u001b[1;31mIndexError\u001b[0m: only integers, slices (`:`), ellipsis (`...`), numpy.newaxis (`None`) and integer or boolean arrays are valid indices"
     ]
    },
    {
     "data": {
      "image/png": "[encoded data removed]",
      "text/plain": [
       "<Figure size 432x288 with 1 Axes>"
      ]
     },
     "metadata": {
      "needs_background": "light"
     },
     "output_type": "display_data"
    }
   ],
   "source": [
    "import pandas as pd\n",
    "import matplotlib as plt\n",
    "import numpy as np\n",
    "\n",
    "pokemon_url='https://raw.githubusercontent.com/rpdieego/IndigoTortoise-pkmn-notebooks/master/datasets_2619_4359_pokemon.csv'\n",
    "combats_url='https://raw.githubusercontent.com/rpdieego/IndigoTortoise-pkmn-notebooks/master/datasets_2619_4359_combats.csv'\n",
    "pokemon_df=pd.read_csv(pokemon_url)\n",
    "combats_df=pd.read_csv(combats_url)\n",
    "##find missing values in pokemon_df\n",
    "\n",
    "pokemon_df.isnull().sum()\n",
    "\n",
    "##386 satırın Type 2 kolon değeri Null\n",
    "\n",
    "##Type 2 kolon değeri null olan kayitlari getirelim\n",
    "\n",
    "pokemon_df[pokemon_df['Type 2'].isnull()]\n",
    "\n",
    "##pokemonların yüzde kaçının type 2 değerine sahip olduğuna bakalım\n",
    "\n",
    "CountOfPokemonsHaveType2=pokemon_df[pokemon_df['Type 2'].isnull()==False].shape[0]\n",
    "CountOfPokemonsNotHaveType2=pokemon_df[pokemon_df['Type 2'].isnull()==True].shape[0]\n",
    "CountOfPokemonsHaveType2/(CountOfPokemonsHaveType2+CountOfPokemonsNotHaveType2)\n",
    "\n",
    "##Type 2 kolonunda yer alan değerlerin  sayılarını bulalım..\n",
    "Type2Counts=pokemon_df['Type 2'].value_counts()\n",
    "\n",
    "##Type 2 kolon değer adetlerine göre bar grafiği çizdirelim\n",
    "Type2Counts.plot.bar()\n",
    "\n",
    "\n",
    "##input olarak verilen kolonların ortalamalarını hesaplayıp dönen fonksiyon yazalım..\n",
    "def CalculateAvgOfColumns(column_list):\n",
    "\n",
    "  avg_list = []\n",
    "  for stat in column_list:\n",
    "    avg = pokemon_df[stat].mean()\n",
    "    avg_list.append(avg)\n",
    "\n",
    "  return avg_list\n",
    "\n",
    "\n",
    "ColList=['Attack','Defense','HP']\n",
    "hs=CalculateAvgOfColumns(ColList)\n",
    "hs\n",
    "\n",
    "\n",
    "##Group By örnekleri Type 1 değerine göre attack değerlerinin ortlaması:\n",
    "\n",
    "pokemon_df.groupby(by='Type 1')['Attack'].mean()\n",
    "\n",
    "pokemon_df\n",
    "combats_df\n",
    "## 1 numaralı pokemonun kazandığı mücadelelerin sayisini bulalım\n",
    "\n",
    "Kazanan=pokemon_df.merge(combats_df,how='inner',left_on='#',right_on='First_pokemon')\n",
    "Kazanan[(Kazanan['First_pokemon']==1) & (Kazanan['Winner']==1)]['Name'].count()\n",
    "\n",
    "##Legendary değeri False olup kazananın ilk pokemon olduğu durumları listeleyelim\n",
    "\n",
    "Kazanan[(Kazanan['Legendary']==False) & (Kazanan['First_pokemon']==Kazanan['Winner'])]\n",
    "\n",
    "##FirstPokWin şeklinde bir kolon ekleyelim ve kazananın 1.pokemon olduğu durumda 1 değerini başka bir durumda 0 değerini alsın\n",
    "\n",
    "Kazanan['FirstPokWin']=np.where((Kazanan['First_pokemon']==Kazanan['Winner']),1,0)['N']\n",
    "\n"
   ]
  }
 ],
 "metadata": {
  "kernelspec": {
   "display_name": "Python 3.10.5 64-bit",
   "language": "python",
   "name": "python3"
  },
  "language_info": {
   "codemirror_mode": {
    "name": "ipython",
    "version": 3
   },
   "file_extension": ".py",
   "mimetype": "text/x-python",
   "name": "python",
   "nbconvert_exporter": "python",
   "pygments_lexer": "ipython3",
   "version": "3.10.5"
  },
  "orig_nbformat": 4,
  "vscode": {
   "interpreter": {
    "hash": "64d9e0febb37c117edee39f5c7999dbd1379b9b3f86a615e65e2e5bb33bc848a"
   }
  }
 },
 "nbformat": 4,
 "nbformat_minor": 2
}
